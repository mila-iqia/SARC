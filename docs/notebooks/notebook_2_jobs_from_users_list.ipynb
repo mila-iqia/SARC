{
 "cells": [
  {
   "cell_type": "markdown",
   "id": "afb5495b-4364-480e-a8fe-0721e8a127f7",
   "metadata": {},
   "source": [
    "# Notebook 2 - Get jobs from a users list\n",
    "\n",
    "You can get the notebook file [here](https://github.com/mila-iqia/SARC/blob/master/docs/notebooks/notebook_2_jobs_from_users_list.ipynb).\n",
    "\n",
    "In this example, you will learn how to get jobs from a users list.\n",
    "\n",
    "Let's first configure the `SARC_CONFIG` variable, as in notebook 1:"
   ]
  },
  {
   "cell_type": "code",
   "execution_count": null,
   "id": "0a162657-154e-4353-8f84-79fff4c0852e",
   "metadata": {},
   "outputs": [],
   "source": [
    "import os;\n",
    "os.environ[\"SARC_CONFIG\"] = \"../../config/sarc-client.json\";\n",
    "print(os.environ[\"SARC_CONFIG\"]);"
   ]
  },
  {
   "cell_type": "markdown",
   "id": "f148a206-e171-420b-a517-05a8d0b672da",
   "metadata": {},
   "source": [
    "We will then generate our own users list. First, we get all users:"
   ]
  },
  {
   "cell_type": "code",
   "execution_count": null,
   "id": "5edac889-ebd6-4497-85e9-1e027bc084c6",
   "metadata": {},
   "outputs": [],
   "source": [
    "from sarc.ldap.api import get_users\n",
    "users = get_users()\n",
    "print(f\"Number users: {len(users)}\")"
   ]
  },
  {
   "cell_type": "markdown",
   "id": "713f6ad5-524f-4f63-baa3-079b0b2a0845",
   "metadata": {},
   "source": [
    "Then, we can get jobs only for users that have drac account:"
   ]
  },
  {
   "cell_type": "code",
   "execution_count": null,
   "id": "5837b0a3-de75-4bd2-9b1d-83d16f3f1551",
   "metadata": {},
   "outputs": [],
   "source": [
    "drac_users = [user for user in users if user.drac is not None]\n",
    "print(f\"Number of drac users: {len(drac_users)}\")"
   ]
  },
  {
   "cell_type": "markdown",
   "id": "1c4f15e2-a6e0-42e1-ad5f-975fc79e49ec",
   "metadata": {},
   "source": [
    "To get jobs from a user, we use SARC function `get_jobs`, and we fill argument `user` with user drac account, located in `user.drac.username`. Function will return an iterable.\n",
    "\n",
    "Retrieving jobs may consume time, so we will just get jobs from 5 selected users for this example:"
   ]
  },
  {
   "cell_type": "code",
   "execution_count": null,
   "id": "28658fba-88b1-4463-afbd-807dbb10b481",
   "metadata": {},
   "outputs": [],
   "source": [
    "from sarc.jobs.job import get_jobs\n",
    "from tqdm import tqdm\n",
    "\n",
    "drac_users.sort(key=lambda user: user.name)\n",
    "selected_users = drac_users[:5]\n",
    "\n",
    "DL_user_jobs = {}\n",
    "for user in tqdm(selected_users):\n",
    "    DL_user_jobs[user.name] = list(get_jobs(user=user.drac.username))\n",
    "\n",
    "for user, jobs in DL_user_jobs.items():\n",
    "    print(f\"{user} has {len(jobs)} jobs\")\n"
   ]
  }
 ],
 "metadata": {
  "kernelspec": {
   "display_name": "Python 3 (ipykernel)",
   "language": "python",
   "name": "python3"
  },
  "language_info": {
   "codemirror_mode": {
    "name": "ipython",
    "version": 3
   },
   "file_extension": ".py",
   "mimetype": "text/x-python",
   "name": "python",
   "nbconvert_exporter": "python",
   "pygments_lexer": "ipython3",
   "version": "3.11.0"
  }
 },
 "nbformat": 4,
 "nbformat_minor": 5
}
