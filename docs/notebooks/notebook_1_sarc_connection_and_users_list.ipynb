{
 "cells": [
  {
   "cell_type": "markdown",
   "id": "39c7fb51-4ac0-4b3c-9947-e01736febf0a",
   "metadata": {},
   "source": [
    "# Notebook 1\n",
    "\n",
    "You can get the notebook file [here](https://github.com/mila-iqia/SARC/blob/master/docs/notebooks/notebook_1_sarc_connection_and_users_list.ipynb).\n",
    "\n",
    "## Connect to SARC virtual machine\n",
    "\n",
    "For this example, and more generally for any use of SARC, you need to access SARC virtual machine in normal (read-only) mode, with config file `config/sarc-client.json`.\n",
    "\n",
    "In this config file, it is assumed you have access to mongoDB via local port 8123. \n",
    "\n",
    "First, make sure you have set up the Mila IDT VPN.\n",
    "If you never accessed the VM, [see documention here to start](https://mila-iqia.atlassian.net/wiki/spaces/IDT/pages/2325840018/VM+sarc01-dev).\n",
    "\n",
    "Then, create the SSH tunnel in a separate terminal, by forwarding the local port indicated in config file `config/sarc-client.json` (here `8123`) to the distant VM port (`21017`);\n",
    "\n",
    "The VM is accessible through a login node. \n",
    "The easiest way is to create a specific section in your `~/.ssh/config` file:\n",
    "```\n",
    "Host sarc\n",
    "    Hostname sarc01-dev\n",
    "    User <your_mila_id>\n",
    "    Proxyjump mila\n",
    "    LocalForward 8123 127.0.0.1:27017\n",
    "```\n",
    "And then type this command in a separate terminal:\n",
    "```\n",
    "ssh sarc\n",
    "```\n",
    "\n",
    "## Configure SARC\n",
    "\n",
    "To run this example, we must set environment variable `SARC_CONFIG` to configuration file `sarc-client.json`.\n",
    "\n",
    "In a terminal opened in SARC repository folder, you can set the variable with `export SARC_CONFIG=config/sarc-client.json`.\n",
    "\n",
    "From this notebook, you can set the variable using Python's `os.environ` object:"
   ]
  },
  {
   "cell_type": "code",
   "execution_count": null,
   "id": "5bec062a-7e28-4841-9dfc-1cfc234c7dd7",
   "metadata": {},
   "outputs": [],
   "source": [
    "import os;\n",
    "# As we're in folder `docs/notebooks`, we must go back twice in tree (`../../`) to find config folder.\n",
    "os.environ[\"SARC_CONFIG\"] = \"../../config/sarc-client.json\";\n",
    "print(os.environ[\"SARC_CONFIG\"]);"
   ]
  },
  {
   "cell_type": "markdown",
   "id": "650635a0-ad0e-4042-bc77-86a18eae2aa4",
   "metadata": {},
   "source": [
    "## Get users list\n",
    "\n",
    "You can get users list with SARC function `get_users`:"
   ]
  },
  {
   "cell_type": "code",
   "execution_count": null,
   "id": "032fde90-abf5-48d1-be71-73724721ae2a",
   "metadata": {},
   "outputs": [],
   "source": [
    "from sarc.ldap.api import get_users\n",
    "users = get_users()\n",
    "print(f\"Number users: {len(users)}\")"
   ]
  },
  {
   "cell_type": "markdown",
   "id": "99398c77-2db6-4a29-b395-244b9c247c1d",
   "metadata": {},
   "source": [
    "You can filter uses list to get only active users:"
   ]
  },
  {
   "cell_type": "code",
   "execution_count": null,
   "id": "e1771cac-05b9-40e6-b856-1effd48970c0",
   "metadata": {},
   "outputs": [],
   "source": [
    "users = [u for u in users if u.mila.active]\n",
    "print(f\"Number of active users: {len(users)}\")"
   ]
  },
  {
   "cell_type": "markdown",
   "id": "b0a9c07e-bc5d-47cc-8501-c4349bf20f64",
   "metadata": {},
   "source": [
    "## Create supervisors list from users list\n",
    "\n",
    "You can get user's supervisor and co-supervisor in `user.mila_ldap[\"supervisor\"]` and `user.mila_ldap[\"co_supervisor\"]`. Note that both fields may be `None` if unknown:"
   ]
  },
  {
   "cell_type": "code",
   "execution_count": null,
   "id": "d3043489-6741-43b3-8bf4-60be898d81da",
   "metadata": {},
   "outputs": [],
   "source": [
    "supervisors = set()\n",
    "co_supervisors = set()\n",
    "for user in users:\n",
    "    supervisor = user.mila_ldap.get(\"supervisor\")\n",
    "    co_supervisor = user.mila_ldap.get(\"co_supervisor\")\n",
    "    if supervisor:\n",
    "        supervisors.add(supervisor)\n",
    "    if co_supervisor:\n",
    "        co_supervisors.add(co_supervisor)\n",
    "print(f\"Number of supervisors: {len(supervisors)}\")\n",
    "print(f\"Number of co-supervisors: {len(co_supervisors)}\")"
   ]
  },
  {
   "cell_type": "markdown",
   "id": "81cc5f51-bb36-47b7-8699-81e204d13c2e",
   "metadata": {},
   "source": [
    "## Filter users for a specific supervisor.\n",
    "\n",
    "You can get the users associated to a specific supervisor (or co-supervisor) by checking related keys in `user.mila_ldap` dictionary. User email is available in `user.mila.email` attribute."
   ]
  },
  {
   "cell_type": "code",
   "execution_count": null,
   "id": "38481263-9930-4cd3-a4e5-b6d1db133ef3",
   "metadata": {},
   "outputs": [],
   "source": [
    "# Choose a specific supervisor (here, sort supervisors and choose the last one).\n",
    "specific_supervisor = sorted(supervisors)[-1]\n",
    "print(f\"Last sorted supervisor: {specific_supervisor}\")\n",
    "# Then, get supervised students.\n",
    "students = [\n",
    "    user.mila.email \n",
    "    for user in users \n",
    "    if (\n",
    "        user.mila_ldap.get(\"supervisor\") == specific_supervisor \n",
    "        or user.mila_ldap.get(\"co_supervisor\") == specific_supervisor\n",
    "    )\n",
    "]\n",
    "print(f\"Number of students for last sorted supervisor: {len(students)}\")"
   ]
  }
 ],
 "metadata": {
  "kernelspec": {
   "display_name": "Python 3 (ipykernel)",
   "language": "python",
   "name": "python3"
  },
  "language_info": {
   "codemirror_mode": {
    "name": "ipython",
    "version": 3
   },
   "file_extension": ".py",
   "mimetype": "text/x-python",
   "name": "python",
   "nbconvert_exporter": "python",
   "pygments_lexer": "ipython3",
   "version": "3.11.0"
  }
 },
 "nbformat": 4,
 "nbformat_minor": 5
}
